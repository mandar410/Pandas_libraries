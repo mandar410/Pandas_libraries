{
 "cells": [
  {
   "cell_type": "code",
   "execution_count": 1,
   "id": "e82bbca2",
   "metadata": {},
   "outputs": [],
   "source": [
    "import numpy as np"
   ]
  },
  {
   "cell_type": "code",
   "execution_count": 2,
   "id": "a0484071",
   "metadata": {},
   "outputs": [],
   "source": [
    "a=np.array([1,2,3,4,5,6,7,8,9,10])\n",
    "b=np.array([11,12,13,14,15,16,17,18,19,20])"
   ]
  },
  {
   "cell_type": "markdown",
   "id": "f2003026",
   "metadata": {},
   "source": [
    "### shape"
   ]
  },
  {
   "cell_type": "code",
   "execution_count": 3,
   "id": "3eec5c2c",
   "metadata": {},
   "outputs": [
    {
     "data": {
      "text/plain": [
       "(10,)"
      ]
     },
     "execution_count": 3,
     "metadata": {},
     "output_type": "execute_result"
    }
   ],
   "source": [
    "a.shape"
   ]
  },
  {
   "cell_type": "code",
   "execution_count": 4,
   "id": "09b9db9c",
   "metadata": {},
   "outputs": [
    {
     "data": {
      "text/plain": [
       "(10,)"
      ]
     },
     "execution_count": 4,
     "metadata": {},
     "output_type": "execute_result"
    }
   ],
   "source": [
    "b.shape"
   ]
  },
  {
   "cell_type": "markdown",
   "id": "212a57e4",
   "metadata": {},
   "source": [
    "### Dimensions"
   ]
  },
  {
   "cell_type": "code",
   "execution_count": 5,
   "id": "de1187a6",
   "metadata": {},
   "outputs": [
    {
     "data": {
      "text/plain": [
       "1"
      ]
     },
     "execution_count": 5,
     "metadata": {},
     "output_type": "execute_result"
    }
   ],
   "source": [
    "a.ndim"
   ]
  },
  {
   "cell_type": "code",
   "execution_count": 6,
   "id": "889eb54e",
   "metadata": {},
   "outputs": [
    {
     "data": {
      "text/plain": [
       "1"
      ]
     },
     "execution_count": 6,
     "metadata": {},
     "output_type": "execute_result"
    }
   ],
   "source": [
    "b.ndim"
   ]
  },
  {
   "cell_type": "markdown",
   "id": "99e10be9",
   "metadata": {},
   "source": [
    "### Type of the Array"
   ]
  },
  {
   "cell_type": "code",
   "execution_count": 7,
   "id": "7b2f3d44",
   "metadata": {},
   "outputs": [
    {
     "data": {
      "text/plain": [
       "numpy.ndarray"
      ]
     },
     "execution_count": 7,
     "metadata": {},
     "output_type": "execute_result"
    }
   ],
   "source": [
    "type(a)"
   ]
  },
  {
   "cell_type": "code",
   "execution_count": 8,
   "id": "a93f2b6a",
   "metadata": {},
   "outputs": [
    {
     "data": {
      "text/plain": [
       "numpy.ndarray"
      ]
     },
     "execution_count": 8,
     "metadata": {},
     "output_type": "execute_result"
    }
   ],
   "source": [
    "type(b)"
   ]
  },
  {
   "cell_type": "markdown",
   "id": "8749b726",
   "metadata": {},
   "source": [
    "### Data type of the array contents "
   ]
  },
  {
   "cell_type": "code",
   "execution_count": 9,
   "id": "279bece2",
   "metadata": {},
   "outputs": [
    {
     "data": {
      "text/plain": [
       "dtype('int32')"
      ]
     },
     "execution_count": 9,
     "metadata": {},
     "output_type": "execute_result"
    }
   ],
   "source": [
    "a.dtype"
   ]
  },
  {
   "cell_type": "code",
   "execution_count": 10,
   "id": "0d1ad37f",
   "metadata": {},
   "outputs": [
    {
     "data": {
      "text/plain": [
       "dtype('int32')"
      ]
     },
     "execution_count": 10,
     "metadata": {},
     "output_type": "execute_result"
    }
   ],
   "source": [
    "b.dtype"
   ]
  },
  {
   "cell_type": "markdown",
   "id": "e745f30e",
   "metadata": {},
   "source": [
    "### Length of the array"
   ]
  },
  {
   "cell_type": "code",
   "execution_count": 11,
   "id": "678c7bd3",
   "metadata": {},
   "outputs": [
    {
     "data": {
      "text/plain": [
       "10"
      ]
     },
     "execution_count": 11,
     "metadata": {},
     "output_type": "execute_result"
    }
   ],
   "source": [
    "len(a)"
   ]
  },
  {
   "cell_type": "code",
   "execution_count": 12,
   "id": "644f8dc6",
   "metadata": {},
   "outputs": [
    {
     "data": {
      "text/plain": [
       "10"
      ]
     },
     "execution_count": 12,
     "metadata": {},
     "output_type": "execute_result"
    }
   ],
   "source": [
    "len(b)"
   ]
  },
  {
   "cell_type": "markdown",
   "id": "6464cb94",
   "metadata": {},
   "source": [
    "### Change the shape of the array"
   ]
  },
  {
   "cell_type": "code",
   "execution_count": 13,
   "id": "d751c3f0",
   "metadata": {},
   "outputs": [
    {
     "data": {
      "text/plain": [
       "array([[ 1,  2,  3,  4,  5],\n",
       "       [ 6,  7,  8,  9, 10]])"
      ]
     },
     "execution_count": 13,
     "metadata": {},
     "output_type": "execute_result"
    }
   ],
   "source": [
    "a.reshape(2,5)"
   ]
  },
  {
   "cell_type": "code",
   "execution_count": 14,
   "id": "9553d906",
   "metadata": {},
   "outputs": [
    {
     "data": {
      "text/plain": [
       "array([[11, 12],\n",
       "       [13, 14],\n",
       "       [15, 16],\n",
       "       [17, 18],\n",
       "       [19, 20]])"
      ]
     },
     "execution_count": 14,
     "metadata": {},
     "output_type": "execute_result"
    }
   ],
   "source": [
    "b.reshape(5,2)"
   ]
  },
  {
   "cell_type": "markdown",
   "id": "6a5f8ae4",
   "metadata": {},
   "source": [
    "### Concatination of two arrays"
   ]
  },
  {
   "cell_type": "code",
   "execution_count": 15,
   "id": "d55c5481",
   "metadata": {},
   "outputs": [],
   "source": [
    "ab=np.concatenate((a,b))"
   ]
  },
  {
   "cell_type": "code",
   "execution_count": 16,
   "id": "e7dded00",
   "metadata": {},
   "outputs": [
    {
     "data": {
      "text/plain": [
       "array([ 1,  2,  3,  4,  5,  6,  7,  8,  9, 10, 11, 12, 13, 14, 15, 16, 17,\n",
       "       18, 19, 20])"
      ]
     },
     "execution_count": 16,
     "metadata": {},
     "output_type": "execute_result"
    }
   ],
   "source": [
    "ab"
   ]
  },
  {
   "cell_type": "markdown",
   "id": "d6215663",
   "metadata": {},
   "source": [
    "### For finding position of the array content"
   ]
  },
  {
   "cell_type": "code",
   "execution_count": 17,
   "id": "69732e5e",
   "metadata": {},
   "outputs": [],
   "source": [
    "bc=np.where(a==4)"
   ]
  },
  {
   "cell_type": "code",
   "execution_count": 18,
   "id": "21aa36d7",
   "metadata": {},
   "outputs": [
    {
     "data": {
      "text/plain": [
       "(array([3], dtype=int64),)"
      ]
     },
     "execution_count": 18,
     "metadata": {},
     "output_type": "execute_result"
    }
   ],
   "source": [
    "bc"
   ]
  },
  {
   "cell_type": "code",
   "execution_count": 19,
   "id": "62f06762",
   "metadata": {},
   "outputs": [],
   "source": [
    "cd=np.where(b==15)"
   ]
  },
  {
   "cell_type": "code",
   "execution_count": 20,
   "id": "c0c0a270",
   "metadata": {},
   "outputs": [
    {
     "data": {
      "text/plain": [
       "(array([4], dtype=int64),)"
      ]
     },
     "execution_count": 20,
     "metadata": {},
     "output_type": "execute_result"
    }
   ],
   "source": [
    "cd"
   ]
  },
  {
   "cell_type": "markdown",
   "id": "5493bea9",
   "metadata": {},
   "source": [
    "### Array split"
   ]
  },
  {
   "cell_type": "code",
   "execution_count": 21,
   "id": "e4cc037c",
   "metadata": {},
   "outputs": [],
   "source": [
    "sp=np.array_split(a,3)"
   ]
  },
  {
   "cell_type": "code",
   "execution_count": 22,
   "id": "dc11c033",
   "metadata": {},
   "outputs": [
    {
     "data": {
      "text/plain": [
       "[array([1, 2, 3, 4]), array([5, 6, 7]), array([ 8,  9, 10])]"
      ]
     },
     "execution_count": 22,
     "metadata": {},
     "output_type": "execute_result"
    }
   ],
   "source": [
    "sp"
   ]
  },
  {
   "cell_type": "code",
   "execution_count": 23,
   "id": "9182c587",
   "metadata": {},
   "outputs": [],
   "source": [
    "sp1=np.array_split(b,4)"
   ]
  },
  {
   "cell_type": "code",
   "execution_count": 24,
   "id": "ee8eb694",
   "metadata": {},
   "outputs": [
    {
     "data": {
      "text/plain": [
       "[array([11, 12, 13]), array([14, 15, 16]), array([17, 18]), array([19, 20])]"
      ]
     },
     "execution_count": 24,
     "metadata": {},
     "output_type": "execute_result"
    }
   ],
   "source": [
    "sp1"
   ]
  },
  {
   "cell_type": "markdown",
   "id": "a531e8ae",
   "metadata": {},
   "source": [
    "### Array Iteration"
   ]
  },
  {
   "cell_type": "code",
   "execution_count": 26,
   "id": "181cecad",
   "metadata": {},
   "outputs": [
    {
     "name": "stdout",
     "output_type": "stream",
     "text": [
      "[11 12 13]\n",
      "[111 112 113]\n",
      "[111 112 113]\n",
      "[111 112 113]\n",
      "[14 15 16]\n",
      "[114 115 116]\n",
      "[114 115 116]\n",
      "[114 115 116]\n",
      "[17 18 19]\n",
      "[117 118 119]\n",
      "[117 118 119]\n",
      "[117 118 119]\n",
      "[21 22 23]\n",
      "[121 122 123]\n",
      "[121 122 123]\n",
      "[121 122 123]\n"
     ]
    }
   ],
   "source": [
    "c=np.array([[1,2,3],[4,5,6],[7,8,9],[11,12,13]])\n",
    "for x in c:\n",
    "    x2=x+10\n",
    "    print(x2)\n",
    "    for y in x:\n",
    "        x1=x2+100\n",
    "        print(x1)"
   ]
  },
  {
   "cell_type": "code",
   "execution_count": null,
   "id": "0b2f450c",
   "metadata": {},
   "outputs": [],
   "source": []
  }
 ],
 "metadata": {
  "kernelspec": {
   "display_name": "Python 3 (ipykernel)",
   "language": "python",
   "name": "python3"
  },
  "language_info": {
   "codemirror_mode": {
    "name": "ipython",
    "version": 3
   },
   "file_extension": ".py",
   "mimetype": "text/x-python",
   "name": "python",
   "nbconvert_exporter": "python",
   "pygments_lexer": "ipython3",
   "version": "3.9.17"
  }
 },
 "nbformat": 4,
 "nbformat_minor": 5
}
